{
  "nbformat": 4,
  "nbformat_minor": 0,
  "metadata": {
    "colab": {
      "provenance": [],
      "gpuType": "T4"
    },
    "kernelspec": {
      "name": "python3",
      "display_name": "Python 3"
    },
    "language_info": {
      "name": "python"
    },
    "accelerator": "GPU"
  },
  "cells": [
    {
      "cell_type": "markdown",
      "source": [
        "#Deep Learning Experiments for Text Dataset"
      ],
      "metadata": {
        "id": "erGY4pFh4MWE"
      }
    },
    {
      "cell_type": "code",
      "execution_count": 1,
      "metadata": {
        "id": "ymONDCNc3d8F"
      },
      "outputs": [],
      "source": [
        "!pip install -q transformers torch pymongo"
      ]
    },
    {
      "cell_type": "markdown",
      "source": [
        "## Loading Data from Database"
      ],
      "metadata": {
        "id": "wAwTc_S64Snm"
      }
    },
    {
      "cell_type": "code",
      "source": [
        "from pymongo import MongoClient\n",
        "import os\n",
        "from google.colab import userdata"
      ],
      "metadata": {
        "id": "chpsfaH94D4t"
      },
      "execution_count": 2,
      "outputs": []
    },
    {
      "cell_type": "code",
      "source": [
        "CONN_STR = userdata.get('CONN_STR')"
      ],
      "metadata": {
        "id": "KRMHGBkC4WM-"
      },
      "execution_count": 3,
      "outputs": []
    },
    {
      "cell_type": "code",
      "source": [
        "client = MongoClient(CONN_STR)\n",
        "db = client['PAI-Project']\n",
        "table = db['TextDataCleaned']"
      ],
      "metadata": {
        "id": "FX_CPuuT4Yl-"
      },
      "execution_count": 4,
      "outputs": []
    },
    {
      "cell_type": "code",
      "source": [
        "records = table.find({})\n",
        "records = list(records)"
      ],
      "metadata": {
        "id": "p8-cbl8X43MB"
      },
      "execution_count": 5,
      "outputs": []
    },
    {
      "cell_type": "code",
      "source": [
        "import pandas as pd"
      ],
      "metadata": {
        "id": "e9mr1Z0e5Ikh"
      },
      "execution_count": 6,
      "outputs": []
    },
    {
      "cell_type": "code",
      "source": [
        "df = pd.DataFrame(records)"
      ],
      "metadata": {
        "id": "NmS-TYim5Yoh"
      },
      "execution_count": 7,
      "outputs": []
    },
    {
      "cell_type": "code",
      "source": [
        "df.head()"
      ],
      "metadata": {
        "colab": {
          "base_uri": "https://localhost:8080/",
          "height": 206
        },
        "id": "hCIYY-Cq5aCm",
        "outputId": "c06b8b98-d52c-4be2-85c2-cdfeea2732fb"
      },
      "execution_count": 8,
      "outputs": [
        {
          "output_type": "execute_result",
          "data": {
            "text/plain": [
              "                        _id  target  \\\n",
              "0  676d86a5bd348b6b203f39ce       1   \n",
              "1  676d86a5bd348b6b203f39cf       1   \n",
              "2  676d86a5bd348b6b203f39d0       1   \n",
              "3  676d86a5bd348b6b203f39d1       1   \n",
              "4  676d86a5bd348b6b203f39d2       1   \n",
              "\n",
              "                                               input  \n",
              "0  Regular check-in post, with information about ...  \n",
              "1  Our most-broken and least-understood rules is ...  \n",
              "2  I haven’t been touched, or even hugged, in so ...  \n",
              "3  Being Depressed is Embarrassing\\n\\nI’m just so...  \n",
              "4  I'm desperate for a friend and to feel loved b...  "
            ],
            "text/html": [
              "\n",
              "  <div id=\"df-baee717b-4b32-40f0-a117-6f7ab2298ca4\" class=\"colab-df-container\">\n",
              "    <div>\n",
              "<style scoped>\n",
              "    .dataframe tbody tr th:only-of-type {\n",
              "        vertical-align: middle;\n",
              "    }\n",
              "\n",
              "    .dataframe tbody tr th {\n",
              "        vertical-align: top;\n",
              "    }\n",
              "\n",
              "    .dataframe thead th {\n",
              "        text-align: right;\n",
              "    }\n",
              "</style>\n",
              "<table border=\"1\" class=\"dataframe\">\n",
              "  <thead>\n",
              "    <tr style=\"text-align: right;\">\n",
              "      <th></th>\n",
              "      <th>_id</th>\n",
              "      <th>target</th>\n",
              "      <th>input</th>\n",
              "    </tr>\n",
              "  </thead>\n",
              "  <tbody>\n",
              "    <tr>\n",
              "      <th>0</th>\n",
              "      <td>676d86a5bd348b6b203f39ce</td>\n",
              "      <td>1</td>\n",
              "      <td>Regular check-in post, with information about ...</td>\n",
              "    </tr>\n",
              "    <tr>\n",
              "      <th>1</th>\n",
              "      <td>676d86a5bd348b6b203f39cf</td>\n",
              "      <td>1</td>\n",
              "      <td>Our most-broken and least-understood rules is ...</td>\n",
              "    </tr>\n",
              "    <tr>\n",
              "      <th>2</th>\n",
              "      <td>676d86a5bd348b6b203f39d0</td>\n",
              "      <td>1</td>\n",
              "      <td>I haven’t been touched, or even hugged, in so ...</td>\n",
              "    </tr>\n",
              "    <tr>\n",
              "      <th>3</th>\n",
              "      <td>676d86a5bd348b6b203f39d1</td>\n",
              "      <td>1</td>\n",
              "      <td>Being Depressed is Embarrassing\\n\\nI’m just so...</td>\n",
              "    </tr>\n",
              "    <tr>\n",
              "      <th>4</th>\n",
              "      <td>676d86a5bd348b6b203f39d2</td>\n",
              "      <td>1</td>\n",
              "      <td>I'm desperate for a friend and to feel loved b...</td>\n",
              "    </tr>\n",
              "  </tbody>\n",
              "</table>\n",
              "</div>\n",
              "    <div class=\"colab-df-buttons\">\n",
              "\n",
              "  <div class=\"colab-df-container\">\n",
              "    <button class=\"colab-df-convert\" onclick=\"convertToInteractive('df-baee717b-4b32-40f0-a117-6f7ab2298ca4')\"\n",
              "            title=\"Convert this dataframe to an interactive table.\"\n",
              "            style=\"display:none;\">\n",
              "\n",
              "  <svg xmlns=\"http://www.w3.org/2000/svg\" height=\"24px\" viewBox=\"0 -960 960 960\">\n",
              "    <path d=\"M120-120v-720h720v720H120Zm60-500h600v-160H180v160Zm220 220h160v-160H400v160Zm0 220h160v-160H400v160ZM180-400h160v-160H180v160Zm440 0h160v-160H620v160ZM180-180h160v-160H180v160Zm440 0h160v-160H620v160Z\"/>\n",
              "  </svg>\n",
              "    </button>\n",
              "\n",
              "  <style>\n",
              "    .colab-df-container {\n",
              "      display:flex;\n",
              "      gap: 12px;\n",
              "    }\n",
              "\n",
              "    .colab-df-convert {\n",
              "      background-color: #E8F0FE;\n",
              "      border: none;\n",
              "      border-radius: 50%;\n",
              "      cursor: pointer;\n",
              "      display: none;\n",
              "      fill: #1967D2;\n",
              "      height: 32px;\n",
              "      padding: 0 0 0 0;\n",
              "      width: 32px;\n",
              "    }\n",
              "\n",
              "    .colab-df-convert:hover {\n",
              "      background-color: #E2EBFA;\n",
              "      box-shadow: 0px 1px 2px rgba(60, 64, 67, 0.3), 0px 1px 3px 1px rgba(60, 64, 67, 0.15);\n",
              "      fill: #174EA6;\n",
              "    }\n",
              "\n",
              "    .colab-df-buttons div {\n",
              "      margin-bottom: 4px;\n",
              "    }\n",
              "\n",
              "    [theme=dark] .colab-df-convert {\n",
              "      background-color: #3B4455;\n",
              "      fill: #D2E3FC;\n",
              "    }\n",
              "\n",
              "    [theme=dark] .colab-df-convert:hover {\n",
              "      background-color: #434B5C;\n",
              "      box-shadow: 0px 1px 3px 1px rgba(0, 0, 0, 0.15);\n",
              "      filter: drop-shadow(0px 1px 2px rgba(0, 0, 0, 0.3));\n",
              "      fill: #FFFFFF;\n",
              "    }\n",
              "  </style>\n",
              "\n",
              "    <script>\n",
              "      const buttonEl =\n",
              "        document.querySelector('#df-baee717b-4b32-40f0-a117-6f7ab2298ca4 button.colab-df-convert');\n",
              "      buttonEl.style.display =\n",
              "        google.colab.kernel.accessAllowed ? 'block' : 'none';\n",
              "\n",
              "      async function convertToInteractive(key) {\n",
              "        const element = document.querySelector('#df-baee717b-4b32-40f0-a117-6f7ab2298ca4');\n",
              "        const dataTable =\n",
              "          await google.colab.kernel.invokeFunction('convertToInteractive',\n",
              "                                                    [key], {});\n",
              "        if (!dataTable) return;\n",
              "\n",
              "        const docLinkHtml = 'Like what you see? Visit the ' +\n",
              "          '<a target=\"_blank\" href=https://colab.research.google.com/notebooks/data_table.ipynb>data table notebook</a>'\n",
              "          + ' to learn more about interactive tables.';\n",
              "        element.innerHTML = '';\n",
              "        dataTable['output_type'] = 'display_data';\n",
              "        await google.colab.output.renderOutput(dataTable, element);\n",
              "        const docLink = document.createElement('div');\n",
              "        docLink.innerHTML = docLinkHtml;\n",
              "        element.appendChild(docLink);\n",
              "      }\n",
              "    </script>\n",
              "  </div>\n",
              "\n",
              "\n",
              "<div id=\"df-ab4fd2a8-44be-4e87-bc0e-3592f57eac56\">\n",
              "  <button class=\"colab-df-quickchart\" onclick=\"quickchart('df-ab4fd2a8-44be-4e87-bc0e-3592f57eac56')\"\n",
              "            title=\"Suggest charts\"\n",
              "            style=\"display:none;\">\n",
              "\n",
              "<svg xmlns=\"http://www.w3.org/2000/svg\" height=\"24px\"viewBox=\"0 0 24 24\"\n",
              "     width=\"24px\">\n",
              "    <g>\n",
              "        <path d=\"M19 3H5c-1.1 0-2 .9-2 2v14c0 1.1.9 2 2 2h14c1.1 0 2-.9 2-2V5c0-1.1-.9-2-2-2zM9 17H7v-7h2v7zm4 0h-2V7h2v10zm4 0h-2v-4h2v4z\"/>\n",
              "    </g>\n",
              "</svg>\n",
              "  </button>\n",
              "\n",
              "<style>\n",
              "  .colab-df-quickchart {\n",
              "      --bg-color: #E8F0FE;\n",
              "      --fill-color: #1967D2;\n",
              "      --hover-bg-color: #E2EBFA;\n",
              "      --hover-fill-color: #174EA6;\n",
              "      --disabled-fill-color: #AAA;\n",
              "      --disabled-bg-color: #DDD;\n",
              "  }\n",
              "\n",
              "  [theme=dark] .colab-df-quickchart {\n",
              "      --bg-color: #3B4455;\n",
              "      --fill-color: #D2E3FC;\n",
              "      --hover-bg-color: #434B5C;\n",
              "      --hover-fill-color: #FFFFFF;\n",
              "      --disabled-bg-color: #3B4455;\n",
              "      --disabled-fill-color: #666;\n",
              "  }\n",
              "\n",
              "  .colab-df-quickchart {\n",
              "    background-color: var(--bg-color);\n",
              "    border: none;\n",
              "    border-radius: 50%;\n",
              "    cursor: pointer;\n",
              "    display: none;\n",
              "    fill: var(--fill-color);\n",
              "    height: 32px;\n",
              "    padding: 0;\n",
              "    width: 32px;\n",
              "  }\n",
              "\n",
              "  .colab-df-quickchart:hover {\n",
              "    background-color: var(--hover-bg-color);\n",
              "    box-shadow: 0 1px 2px rgba(60, 64, 67, 0.3), 0 1px 3px 1px rgba(60, 64, 67, 0.15);\n",
              "    fill: var(--button-hover-fill-color);\n",
              "  }\n",
              "\n",
              "  .colab-df-quickchart-complete:disabled,\n",
              "  .colab-df-quickchart-complete:disabled:hover {\n",
              "    background-color: var(--disabled-bg-color);\n",
              "    fill: var(--disabled-fill-color);\n",
              "    box-shadow: none;\n",
              "  }\n",
              "\n",
              "  .colab-df-spinner {\n",
              "    border: 2px solid var(--fill-color);\n",
              "    border-color: transparent;\n",
              "    border-bottom-color: var(--fill-color);\n",
              "    animation:\n",
              "      spin 1s steps(1) infinite;\n",
              "  }\n",
              "\n",
              "  @keyframes spin {\n",
              "    0% {\n",
              "      border-color: transparent;\n",
              "      border-bottom-color: var(--fill-color);\n",
              "      border-left-color: var(--fill-color);\n",
              "    }\n",
              "    20% {\n",
              "      border-color: transparent;\n",
              "      border-left-color: var(--fill-color);\n",
              "      border-top-color: var(--fill-color);\n",
              "    }\n",
              "    30% {\n",
              "      border-color: transparent;\n",
              "      border-left-color: var(--fill-color);\n",
              "      border-top-color: var(--fill-color);\n",
              "      border-right-color: var(--fill-color);\n",
              "    }\n",
              "    40% {\n",
              "      border-color: transparent;\n",
              "      border-right-color: var(--fill-color);\n",
              "      border-top-color: var(--fill-color);\n",
              "    }\n",
              "    60% {\n",
              "      border-color: transparent;\n",
              "      border-right-color: var(--fill-color);\n",
              "    }\n",
              "    80% {\n",
              "      border-color: transparent;\n",
              "      border-right-color: var(--fill-color);\n",
              "      border-bottom-color: var(--fill-color);\n",
              "    }\n",
              "    90% {\n",
              "      border-color: transparent;\n",
              "      border-bottom-color: var(--fill-color);\n",
              "    }\n",
              "  }\n",
              "</style>\n",
              "\n",
              "  <script>\n",
              "    async function quickchart(key) {\n",
              "      const quickchartButtonEl =\n",
              "        document.querySelector('#' + key + ' button');\n",
              "      quickchartButtonEl.disabled = true;  // To prevent multiple clicks.\n",
              "      quickchartButtonEl.classList.add('colab-df-spinner');\n",
              "      try {\n",
              "        const charts = await google.colab.kernel.invokeFunction(\n",
              "            'suggestCharts', [key], {});\n",
              "      } catch (error) {\n",
              "        console.error('Error during call to suggestCharts:', error);\n",
              "      }\n",
              "      quickchartButtonEl.classList.remove('colab-df-spinner');\n",
              "      quickchartButtonEl.classList.add('colab-df-quickchart-complete');\n",
              "    }\n",
              "    (() => {\n",
              "      let quickchartButtonEl =\n",
              "        document.querySelector('#df-ab4fd2a8-44be-4e87-bc0e-3592f57eac56 button');\n",
              "      quickchartButtonEl.style.display =\n",
              "        google.colab.kernel.accessAllowed ? 'block' : 'none';\n",
              "    })();\n",
              "  </script>\n",
              "</div>\n",
              "\n",
              "    </div>\n",
              "  </div>\n"
            ],
            "application/vnd.google.colaboratory.intrinsic+json": {
              "type": "dataframe",
              "variable_name": "df",
              "summary": "{\n  \"name\": \"df\",\n  \"rows\": 5957,\n  \"fields\": [\n    {\n      \"column\": \"_id\",\n      \"properties\": {\n        \"dtype\": \"string\",\n        \"num_unique_values\": 5957,\n        \"samples\": [\n          \"676d86a5bd348b6b203f3f0e\",\n          \"676d86a5bd348b6b203f3c3f\",\n          \"676d86a5bd348b6b203f3f67\"\n        ],\n        \"semantic_type\": \"\",\n        \"description\": \"\"\n      }\n    },\n    {\n      \"column\": \"target\",\n      \"properties\": {\n        \"dtype\": \"number\",\n        \"std\": 1,\n        \"min\": 0,\n        \"max\": 4,\n        \"num_unique_values\": 5,\n        \"samples\": [\n          0,\n          4,\n          2\n        ],\n        \"semantic_type\": \"\",\n        \"description\": \"\"\n      }\n    },\n    {\n      \"column\": \"input\",\n      \"properties\": {\n        \"dtype\": \"string\",\n        \"num_unique_values\": 4708,\n        \"samples\": [\n          \"How do i get over my stress and anxiety related to having to learn to drive?\\n\\nI live down south in a mountainous/hilly area and i find it stressing even as a passenger at times because of how winding and narrow the roads are. it's as if a normal street was cut in half. there is consistently a large amount of brush around these roads which can obscure my vision. there are also a lot of guard rails around these roads which adds to it. i am being pressured by my family to learn to drive, mainly because 10 years ago my mom got high on prescription pills as she often does and went out at 3 in the morning driving somewhere and critically injured herself, almost paralyzing herself in the process (i was told that my mother is in the .1% of people who have a full complete recovery from the type of spinal damage she incurred in her accident without any loss of mobility). i also take prescription medication, and she has begun threatening to not pick up my prescriptions anymore if i don't do this which has also added to my stress. my family tells me that i can do all sorts of fun activities outside if i have a car (which i have little to no interest in, the only reason i leave my house is for food shopping and doctor's appointments). i obviously do not live somewhere there is easily accessible public transportation, either. for the most part i'm scared of injuring myself or another person if i'm behind the wheel.\",\n          \"Survey about stress for my thesis, only takes 5 min\\n\\nHello guys! If you have the time, I would appreciate if you could fill my survey for my thesis, it only takes 5 min. Thank you![https://erasmusuniversity.eu.qualtrics.com/jfe/form/SV\\\\_43n2PRyzZlsojMq](https://erasmusuniversity.eu.qualtrics.com/jfe/form/SV_43n2PRyzZlsojMq)\",\n          \"Anxiety\\n\\nI\\u2019m a 25 year old male overall healthy, I have been suffering anxiety and panic attacks for about 6 years now. I got on Prozac about 2 years ago and it\\u2019s helped tremendously. I get anxious here and there. I\\u2019ve gone to a whole bunch of doctors before the Prozac to all tell me I\\u2019m fine. Cardiologist, neurologist , ent etc. the other day I was at the pediatrician for my daughter and I started feeling somewhat antsy and hot and then I started sweating, feeling dizzy, felt short of breath, I thought I would pass out. I freaked out and didn\\u2019t calm down until I left about 30 mins later. I\\u2019m worried if I have a heart issue or if this just goes back to it being anxiety? I recently did bloodwork 3 weeks ago Everyrhing came out fine except my cholesterol being minor elevated which I\\u2019m taking care of already and eating super clean. Let me know what you guys think\"\n        ],\n        \"semantic_type\": \"\",\n        \"description\": \"\"\n      }\n    }\n  ]\n}"
            }
          },
          "metadata": {},
          "execution_count": 8
        }
      ]
    },
    {
      "cell_type": "markdown",
      "source": [
        "# Custom Dataset Class"
      ],
      "metadata": {
        "id": "nkqh9odk6Ftb"
      }
    },
    {
      "cell_type": "code",
      "source": [
        "from torch.utils.data import Dataset, DataLoader\n",
        "import torch\n",
        "import torch.nn as nn"
      ],
      "metadata": {
        "id": "TBcZ2u_D5bEf"
      },
      "execution_count": 9,
      "outputs": []
    },
    {
      "cell_type": "code",
      "source": [
        "class TextDataset(Dataset):\n",
        "  def __init__(self, x, y):\n",
        "    self.x = x\n",
        "    self.y = y\n",
        "\n",
        "  def __len__(self):\n",
        "    return len(self.x)\n",
        "\n",
        "  def __getitem__(self, idx):\n",
        "    return self.x[idx], self.y[idx]"
      ],
      "metadata": {
        "id": "Y6NMWrT56TGP"
      },
      "execution_count": 10,
      "outputs": []
    },
    {
      "cell_type": "code",
      "source": [
        "from sklearn.model_selection import train_test_split\n",
        "\n",
        "X = df['input'].values\n",
        "y = df['target'].values\n",
        "\n",
        "X_train, X_test, y_train, y_test = train_test_split(X, y, test_size=0.2, random_state=42)"
      ],
      "metadata": {
        "id": "m81_23tb6jQf"
      },
      "execution_count": 11,
      "outputs": []
    },
    {
      "cell_type": "code",
      "source": [
        "train_ds = TextDataset(X_train, y_train)\n",
        "test_ds = TextDataset(X_test, y_test)"
      ],
      "metadata": {
        "id": "YBFtTFyi6xl9"
      },
      "execution_count": 12,
      "outputs": []
    },
    {
      "cell_type": "code",
      "source": [
        "train_ds_loader = DataLoader(train_ds, batch_size=16, shuffle=True)\n",
        "test_ds_loader = DataLoader(test_ds, batch_size=16, shuffle=True)"
      ],
      "metadata": {
        "id": "OfUdWM9F60KP"
      },
      "execution_count": 13,
      "outputs": []
    },
    {
      "cell_type": "markdown",
      "source": [
        "# Custom Model and Tokenizer"
      ],
      "metadata": {
        "id": "OJOjspH564po"
      }
    },
    {
      "cell_type": "code",
      "source": [
        "from transformers import AutoTokenizer, AutoModel"
      ],
      "metadata": {
        "id": "Ns8Ymcgb63SB"
      },
      "execution_count": 14,
      "outputs": []
    },
    {
      "cell_type": "code",
      "source": [
        "model_name = 'bert-base-uncased'\n",
        "tokenizer = AutoTokenizer.from_pretrained(model_name)"
      ],
      "metadata": {
        "id": "XHtcBw6w6-pX"
      },
      "execution_count": 15,
      "outputs": []
    },
    {
      "cell_type": "code",
      "source": [
        "class CustomBERT(nn.Module):\n",
        "  def __init__(self, model_name, num_classes):\n",
        "    super(CustomBERT, self).__init__()\n",
        "    self.bert = AutoModel.from_pretrained(model_name)\n",
        "    self.fc = nn.Linear(self.bert.config.hidden_size, num_classes)\n",
        "\n",
        "  def forward(self, x):\n",
        "    outputs = self.bert(**x)\n",
        "    pooled_output = outputs.pooler_output\n",
        "    logits = self.fc(pooled_output)\n",
        "    return logits"
      ],
      "metadata": {
        "id": "66384M-27D8t"
      },
      "execution_count": 22,
      "outputs": []
    },
    {
      "cell_type": "code",
      "source": [
        "torch.set_float32_matmul_precision('high')"
      ],
      "metadata": {
        "id": "5r8pnTz2_qEq"
      },
      "execution_count": 26,
      "outputs": []
    },
    {
      "cell_type": "code",
      "source": [
        "m = CustomBERT(model_name, 5)\n",
        "device = 'cuda' if torch.cuda.is_available() else 'cpu'\n",
        "m.to(device);"
      ],
      "metadata": {
        "id": "ambbR7AW8vSV"
      },
      "execution_count": 23,
      "outputs": []
    },
    {
      "cell_type": "code",
      "source": [
        "opt = torch.optim.Adam(m.parameters(), lr=1e-5)\n",
        "loss_fn = nn.CrossEntropyLoss()"
      ],
      "metadata": {
        "id": "ViBvVKle-zAM"
      },
      "execution_count": 24,
      "outputs": []
    },
    {
      "cell_type": "markdown",
      "source": [
        "## Training Loop"
      ],
      "metadata": {
        "id": "2UEhYTdC8HBy"
      }
    },
    {
      "cell_type": "code",
      "source": [
        "def evaluate(m):\n",
        "  m.eval()\n",
        "  train_accs = 0\n",
        "  c = 0\n",
        "  for batch in train_ds_loader:\n",
        "    if c == 50:\n",
        "      break\n",
        "    x, y = batch\n",
        "    x = tokenizer(x, padding='max_length', truncation=True, return_tensors='pt', max_length=512)\n",
        "    x = x.to(device)\n",
        "    y = y.to(device)\n",
        "\n",
        "    with torch.no_grad():\n",
        "      with torch.autocast(device_type=device, dtype=torch.float16):\n",
        "        logits = m(x)\n",
        "    y_preds = torch.argmax(logits, dim=1)\n",
        "    train_acc = (y_preds == y).float().mean()\n",
        "    train_accs += train_acc\n",
        "    c += 1\n",
        "\n",
        "  avg_train_acc = train_accs / c\n",
        "  print(f'Train Dataset Accuracy: {avg_train_acc}')\n",
        "\n",
        "  test_accs = 0\n",
        "  c= 0\n",
        "  for batch in test_ds_loader:\n",
        "    if c == 50:\n",
        "      break\n",
        "    x, y = batch\n",
        "    x = tokenizer(x, padding='max_length', truncation=True, return_tensors='pt', max_length=512)\n",
        "    x = x.to(device)\n",
        "    y = y.to(device)\n",
        "    with torch.no_grad():\n",
        "      with torch.autocast(device_type=device, dtype=torch.float16):\n",
        "        logits = m(x)\n",
        "    y_preds = torch.argmax(logits, dim=1)\n",
        "    test_acc = (y_preds == y).float().mean()\n",
        "    test_accs += test_acc\n",
        "    c += 1\n",
        "\n",
        "  avg_test_acc = test_accs / c\n",
        "  print(f'Test Dataset Accuracy: {avg_test_acc}')\n",
        "  m.train()"
      ],
      "metadata": {
        "id": "dfqnhOPI9Z1p"
      },
      "execution_count": 25,
      "outputs": []
    },
    {
      "cell_type": "code",
      "source": [
        "from tqdm import tqdm\n",
        "\n",
        "for epoch in range(5):\n",
        "  pb = tqdm(train_ds_loader, leave=False, desc=f'Epoch {epoch}')\n",
        "  for batch in pb:\n",
        "    x, y = batch\n",
        "    x = tokenizer(x, padding='max_length', truncation=True, return_tensors='pt', max_length=512)\n",
        "    x = x.to(device)\n",
        "    y = y.to(device)\n",
        "\n",
        "    opt.zero_grad()\n",
        "    with torch.autocast(device_type=device, dtype=torch.float16):\n",
        "      logits = m(x)\n",
        "      loss = loss_fn(logits, y)\n",
        "    loss.backward()\n",
        "    opt.step()\n",
        "    pb.set_postfix({'loss': loss.item()})\n",
        "  print(f'Stats for Epoch {epoch + 1}')\n",
        "  evaluate(m)\n",
        "  print('---')"
      ],
      "metadata": {
        "colab": {
          "base_uri": "https://localhost:8080/"
        },
        "id": "u9yb5GvC8GuQ",
        "outputId": "1a251561-3315-4036-faa2-ea9d74b84c55"
      },
      "execution_count": 27,
      "outputs": [
        {
          "output_type": "stream",
          "name": "stderr",
          "text": []
        },
        {
          "output_type": "stream",
          "name": "stdout",
          "text": [
            "Stats for Epoch 1\n",
            "Train Dataset Accuracy: 0.8262499570846558\n",
            "Test Dataset Accuracy: 0.7699999809265137\n",
            "---\n"
          ]
        },
        {
          "output_type": "stream",
          "name": "stderr",
          "text": []
        },
        {
          "output_type": "stream",
          "name": "stdout",
          "text": [
            "Stats for Epoch 2\n",
            "Train Dataset Accuracy: 0.9024999737739563\n",
            "Test Dataset Accuracy: 0.8037499785423279\n",
            "---\n"
          ]
        },
        {
          "output_type": "stream",
          "name": "stderr",
          "text": []
        },
        {
          "output_type": "stream",
          "name": "stdout",
          "text": [
            "Stats for Epoch 3\n",
            "Train Dataset Accuracy: 0.9662500023841858\n",
            "Test Dataset Accuracy: 0.8312499523162842\n",
            "---\n"
          ]
        },
        {
          "output_type": "stream",
          "name": "stderr",
          "text": []
        },
        {
          "output_type": "stream",
          "name": "stdout",
          "text": [
            "Stats for Epoch 4\n",
            "Train Dataset Accuracy: 0.9837499856948853\n",
            "Test Dataset Accuracy: 0.8362500071525574\n",
            "---\n"
          ]
        },
        {
          "output_type": "stream",
          "name": "stderr",
          "text": []
        },
        {
          "output_type": "stream",
          "name": "stdout",
          "text": [
            "Stats for Epoch 5\n",
            "Train Dataset Accuracy: 0.9912499785423279\n",
            "Test Dataset Accuracy: 0.8524999618530273\n",
            "---\n"
          ]
        }
      ]
    },
    {
      "cell_type": "markdown",
      "source": [
        "# Model with Dropout\n",
        "\n",
        "to avoid overfitting."
      ],
      "metadata": {
        "id": "2Lfu2PppNquf"
      }
    },
    {
      "cell_type": "code",
      "source": [
        "class CustomBERTwithDropout(nn.Module):\n",
        "  def __init__(self, model_name, num_classes):\n",
        "    super().__init__()\n",
        "    self.bert = AutoModel.from_pretrained(model_name)\n",
        "    self.dropout = nn.Dropout(0.1)\n",
        "    self.fc = nn.Linear(self.bert.config.hidden_size, num_classes)\n",
        "\n",
        "  def forward(self, x):\n",
        "    outputs = self.bert(**x)\n",
        "    pooled_output = outputs.pooler_output\n",
        "    dropout_output = self.dropout(pooled_output)\n",
        "    logits = self.fc(dropout_output)\n",
        "    return logits"
      ],
      "metadata": {
        "id": "edRN-KtOEOdm"
      },
      "execution_count": 30,
      "outputs": []
    },
    {
      "cell_type": "code",
      "source": [
        "m2 = CustomBERTwithDropout(model_name, 5)\n",
        "device = 'cuda' if torch.cuda.is_available() else 'cpu'\n",
        "m2.to(device);"
      ],
      "metadata": {
        "id": "HdU-9cnqODb2"
      },
      "execution_count": 31,
      "outputs": []
    },
    {
      "cell_type": "code",
      "source": [
        "opt = torch.optim.Adam(m2.parameters(), lr=1e-5)\n",
        "loss_fn = nn.CrossEntropyLoss()"
      ],
      "metadata": {
        "id": "GLnBjfFFQYFq"
      },
      "execution_count": 32,
      "outputs": []
    },
    {
      "cell_type": "code",
      "source": [
        "for epoch in range(5):\n",
        "  pb = tqdm(train_ds_loader, leave=False, desc=f'Epoch {epoch}')\n",
        "  for batch in pb:\n",
        "    x, y = batch\n",
        "    x = tokenizer(x, padding='max_length', truncation=True, return_tensors='pt', max_length=512)\n",
        "    x = x.to(device)\n",
        "    y = y.to(device)\n",
        "\n",
        "    opt.zero_grad()\n",
        "    with torch.autocast(device_type=device, dtype=torch.float16):\n",
        "      logits = m2(x)\n",
        "      loss = loss_fn(logits, y)\n",
        "    loss.backward()\n",
        "    opt.step()\n",
        "    pb.set_postfix({'loss': loss.item()})\n",
        "  print(f'Stats for Epoch {epoch + 1}')\n",
        "  evaluate(m2)\n",
        "  print('---')"
      ],
      "metadata": {
        "colab": {
          "base_uri": "https://localhost:8080/"
        },
        "id": "2lKlA6h2OHid",
        "outputId": "ea695838-f921-4a8a-f9bd-3d5f48db0f94"
      },
      "execution_count": 35,
      "outputs": [
        {
          "output_type": "stream",
          "name": "stderr",
          "text": []
        },
        {
          "output_type": "stream",
          "name": "stdout",
          "text": [
            "Stats for Epoch 1\n",
            "Train Dataset Accuracy: 0.8499999642372131\n",
            "Test Dataset Accuracy: 0.8199999928474426\n",
            "---\n"
          ]
        },
        {
          "output_type": "stream",
          "name": "stderr",
          "text": []
        },
        {
          "output_type": "stream",
          "name": "stdout",
          "text": [
            "Stats for Epoch 2\n",
            "Train Dataset Accuracy: 0.9274999499320984\n",
            "Test Dataset Accuracy: 0.8174999952316284\n",
            "---\n"
          ]
        },
        {
          "output_type": "stream",
          "name": "stderr",
          "text": []
        },
        {
          "output_type": "stream",
          "name": "stdout",
          "text": [
            "Stats for Epoch 3\n",
            "Train Dataset Accuracy: 0.9724999666213989\n",
            "Test Dataset Accuracy: 0.8399999737739563\n",
            "---\n"
          ]
        },
        {
          "output_type": "stream",
          "name": "stderr",
          "text": []
        },
        {
          "output_type": "stream",
          "name": "stdout",
          "text": [
            "Stats for Epoch 4\n",
            "Train Dataset Accuracy: 0.9837499856948853\n",
            "Test Dataset Accuracy: 0.8487499952316284\n",
            "---\n"
          ]
        },
        {
          "output_type": "stream",
          "name": "stderr",
          "text": []
        },
        {
          "output_type": "stream",
          "name": "stdout",
          "text": [
            "Stats for Epoch 5\n",
            "Train Dataset Accuracy: 0.9887499809265137\n",
            "Test Dataset Accuracy: 0.8362500071525574\n",
            "---\n"
          ]
        }
      ]
    },
    {
      "cell_type": "code",
      "source": [],
      "metadata": {
        "id": "nWVWqrMNOQlj"
      },
      "execution_count": null,
      "outputs": []
    }
  ]
}